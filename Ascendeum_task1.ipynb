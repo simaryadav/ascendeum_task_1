{
  "nbformat": 4,
  "nbformat_minor": 0,
  "metadata": {
    "colab": {
      "provenance": [],
      "authorship_tag": "ABX9TyNAWeVL4rBAU+BG4ElO8shg",
      "include_colab_link": true
    },
    "kernelspec": {
      "name": "python3",
      "display_name": "Python 3"
    },
    "language_info": {
      "name": "python"
    }
  },
  "cells": [
    {
      "cell_type": "markdown",
      "metadata": {
        "id": "view-in-github",
        "colab_type": "text"
      },
      "source": [
        "<a href=\"https://colab.research.google.com/github/simaryadav/ascendeum_task_1/blob/main/Ascendeum_task1.ipynb\" target=\"_parent\"><img src=\"https://colab.research.google.com/assets/colab-badge.svg\" alt=\"Open In Colab\"/></a>"
      ]
    },
    {
      "cell_type": "code",
      "execution_count": 1,
      "metadata": {
        "id": "baqK7OEBcCxc"
      },
      "outputs": [],
      "source": [
        "import numpy as np\n",
        "import pandas as pd"
      ]
    },
    {
      "cell_type": "code",
      "source": [
        "def generate_cyclic_matrix(n):\n",
        "  #create a nXn zero matrix\n",
        "  matrix = [[0]*n for _ in range(n)]\n",
        "  #initialize num as 1\n",
        "  num = 1\n",
        "  #initializing the values for all top bottom left and right parameters which are the index for the elements\n",
        "  top,bottom,left,right = 0,n-1,0,n-1\n",
        "\n",
        "  #we'll go and fill the spiral in particlar order as long as\n",
        "  while top <= bottom and left <= right:\n",
        "    #we'll start from left to right\n",
        "    for i in range(left,right + 1):\n",
        "      matrix[top][i] = num\n",
        "      num += 1\n",
        "    top += 1\n",
        "\n",
        "    #fill the right column from top to down\n",
        "    for i in range(top,bottom +1):\n",
        "      matrix[i][right] = num\n",
        "      num += 1\n",
        "    right -= 1\n",
        "\n",
        "    # fill the bottom row from right to left\n",
        "    if top <= bottom:\n",
        "      for i in range(right,left - 1,-1):\n",
        "        matrix[bottom][i] = num\n",
        "        num += 1\n",
        "      bottom -= 1\n",
        "\n",
        "    #fill the left column from bottom to top\n",
        "    if left <= right:\n",
        "      for i in range(bottom,top - 1,-1):\n",
        "        matrix[i][left] = num\n",
        "        num += 1\n",
        "      left += 1\n",
        "\n",
        "  return matrix\n",
        ""
      ],
      "metadata": {
        "id": "m99hg_6-djLE"
      },
      "execution_count": 9,
      "outputs": []
    },
    {
      "cell_type": "code",
      "source": [
        "np.matrix(generate_cyclic_matrix(6))"
      ],
      "metadata": {
        "colab": {
          "base_uri": "https://localhost:8080/"
        },
        "id": "wSHT1CJihmKd",
        "outputId": "2c4bd251-6bb2-42f6-f288-1c0f91fd29f0"
      },
      "execution_count": 14,
      "outputs": [
        {
          "output_type": "execute_result",
          "data": {
            "text/plain": [
              "matrix([[ 1,  2,  3,  4,  5,  6],\n",
              "        [20, 21, 22, 23, 24,  7],\n",
              "        [19, 32, 33, 34, 25,  8],\n",
              "        [18, 31, 36, 35, 26,  9],\n",
              "        [17, 30, 29, 28, 27, 10],\n",
              "        [16, 15, 14, 13, 12, 11]])"
            ]
          },
          "metadata": {},
          "execution_count": 14
        }
      ]
    },
    {
      "cell_type": "code",
      "source": [],
      "metadata": {
        "id": "COPL7ARChnYu"
      },
      "execution_count": null,
      "outputs": []
    }
  ]
}